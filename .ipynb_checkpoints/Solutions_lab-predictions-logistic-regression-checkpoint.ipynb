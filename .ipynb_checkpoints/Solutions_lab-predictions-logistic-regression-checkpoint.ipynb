{
 "cells": [
  {
   "cell_type": "code",
   "execution_count": 1,
   "id": "ad3f9f93",
   "metadata": {},
   "outputs": [
    {
     "name": "stdout",
     "output_type": "stream",
     "text": [
      "········\n"
     ]
    }
   ],
   "source": [
    "import pymysql\n",
    "from sqlalchemy import create_engine\n",
    "import pandas as pd\n",
    "import getpass  \n",
    "password = getpass.getpass()"
   ]
  },
  {
   "cell_type": "code",
   "execution_count": 2,
   "id": "8fb652f6",
   "metadata": {},
   "outputs": [
    {
     "data": {
      "text/html": [
       "<div>\n",
       "<style scoped>\n",
       "    .dataframe tbody tr th:only-of-type {\n",
       "        vertical-align: middle;\n",
       "    }\n",
       "\n",
       "    .dataframe tbody tr th {\n",
       "        vertical-align: top;\n",
       "    }\n",
       "\n",
       "    .dataframe thead th {\n",
       "        text-align: right;\n",
       "    }\n",
       "</style>\n",
       "<table border=\"1\" class=\"dataframe\">\n",
       "  <thead>\n",
       "    <tr style=\"text-align: right;\">\n",
       "      <th></th>\n",
       "      <th>film_id</th>\n",
       "      <th>rental_id</th>\n",
       "      <th>rental_date</th>\n",
       "      <th>customer_id</th>\n",
       "      <th>payment_id</th>\n",
       "      <th>amount</th>\n",
       "    </tr>\n",
       "  </thead>\n",
       "  <tbody>\n",
       "    <tr>\n",
       "      <th>0</th>\n",
       "      <td>1</td>\n",
       "      <td>4863</td>\n",
       "      <td>2005-07-08 19:03:15</td>\n",
       "      <td>431</td>\n",
       "      <td>11630</td>\n",
       "      <td>0.99</td>\n",
       "    </tr>\n",
       "    <tr>\n",
       "      <th>1</th>\n",
       "      <td>1</td>\n",
       "      <td>11433</td>\n",
       "      <td>2005-08-02 20:13:10</td>\n",
       "      <td>518</td>\n",
       "      <td>13956</td>\n",
       "      <td>3.99</td>\n",
       "    </tr>\n",
       "    <tr>\n",
       "      <th>2</th>\n",
       "      <td>1</td>\n",
       "      <td>14714</td>\n",
       "      <td>2005-08-21 21:27:43</td>\n",
       "      <td>279</td>\n",
       "      <td>7578</td>\n",
       "      <td>3.99</td>\n",
       "    </tr>\n",
       "    <tr>\n",
       "      <th>3</th>\n",
       "      <td>1</td>\n",
       "      <td>972</td>\n",
       "      <td>2005-05-30 20:21:07</td>\n",
       "      <td>411</td>\n",
       "      <td>11124</td>\n",
       "      <td>1.99</td>\n",
       "    </tr>\n",
       "    <tr>\n",
       "      <th>4</th>\n",
       "      <td>1</td>\n",
       "      <td>2117</td>\n",
       "      <td>2005-06-17 20:24:00</td>\n",
       "      <td>170</td>\n",
       "      <td>4607</td>\n",
       "      <td>0.99</td>\n",
       "    </tr>\n",
       "    <tr>\n",
       "      <th>5</th>\n",
       "      <td>1</td>\n",
       "      <td>4187</td>\n",
       "      <td>2005-07-07 10:41:31</td>\n",
       "      <td>161</td>\n",
       "      <td>4381</td>\n",
       "      <td>0.99</td>\n",
       "    </tr>\n",
       "    <tr>\n",
       "      <th>6</th>\n",
       "      <td>1</td>\n",
       "      <td>9449</td>\n",
       "      <td>2005-07-30 22:02:34</td>\n",
       "      <td>581</td>\n",
       "      <td>15579</td>\n",
       "      <td>1.99</td>\n",
       "    </tr>\n",
       "    <tr>\n",
       "      <th>7</th>\n",
       "      <td>1</td>\n",
       "      <td>15453</td>\n",
       "      <td>2005-08-23 01:01:01</td>\n",
       "      <td>359</td>\n",
       "      <td>9707</td>\n",
       "      <td>1.99</td>\n",
       "    </tr>\n",
       "    <tr>\n",
       "      <th>8</th>\n",
       "      <td>1</td>\n",
       "      <td>10126</td>\n",
       "      <td>2005-07-31 21:36:07</td>\n",
       "      <td>39</td>\n",
       "      <td>1088</td>\n",
       "      <td>0.99</td>\n",
       "    </tr>\n",
       "    <tr>\n",
       "      <th>9</th>\n",
       "      <td>1</td>\n",
       "      <td>15421</td>\n",
       "      <td>2005-08-22 23:56:37</td>\n",
       "      <td>541</td>\n",
       "      <td>14575</td>\n",
       "      <td>0.99</td>\n",
       "    </tr>\n",
       "  </tbody>\n",
       "</table>\n",
       "</div>"
      ],
      "text/plain": [
       "   film_id  rental_id         rental_date  customer_id  payment_id  amount\n",
       "0        1       4863 2005-07-08 19:03:15          431       11630    0.99\n",
       "1        1      11433 2005-08-02 20:13:10          518       13956    3.99\n",
       "2        1      14714 2005-08-21 21:27:43          279        7578    3.99\n",
       "3        1        972 2005-05-30 20:21:07          411       11124    1.99\n",
       "4        1       2117 2005-06-17 20:24:00          170        4607    0.99\n",
       "5        1       4187 2005-07-07 10:41:31          161        4381    0.99\n",
       "6        1       9449 2005-07-30 22:02:34          581       15579    1.99\n",
       "7        1      15453 2005-08-23 01:01:01          359        9707    1.99\n",
       "8        1      10126 2005-07-31 21:36:07           39        1088    0.99\n",
       "9        1      15421 2005-08-22 23:56:37          541       14575    0.99"
      ]
     },
     "execution_count": 2,
     "metadata": {},
     "output_type": "execute_result"
    }
   ],
   "source": [
    "connection_string = 'mysql+pymysql://root:' + password + '@localhost/sakila'\n",
    "engine = create_engine(connection_string)\n",
    "\n",
    "\n",
    "query_rental = '''select i.film_id, r.rental_id, r.rental_date, r.customer_id, p.payment_id, p.amount\n",
    "from inventory i\n",
    "join rental r\n",
    "on i.inventory_id = r.inventory_id\n",
    "join payment p\n",
    "on r.rental_id = p.rental_id;'''\n",
    "\n",
    "sakila = pd.read_sql_query(query_rental, engine)\n",
    "sakila.head(10)"
   ]
  },
  {
   "cell_type": "code",
   "execution_count": 23,
   "id": "b60f8d31",
   "metadata": {},
   "outputs": [
    {
     "data": {
      "text/html": [
       "<div>\n",
       "<style scoped>\n",
       "    .dataframe tbody tr th:only-of-type {\n",
       "        vertical-align: middle;\n",
       "    }\n",
       "\n",
       "    .dataframe tbody tr th {\n",
       "        vertical-align: top;\n",
       "    }\n",
       "\n",
       "    .dataframe thead th {\n",
       "        text-align: right;\n",
       "    }\n",
       "</style>\n",
       "<table border=\"1\" class=\"dataframe\">\n",
       "  <thead>\n",
       "    <tr style=\"text-align: right;\">\n",
       "      <th></th>\n",
       "      <th>film_id</th>\n",
       "      <th>rental_id</th>\n",
       "      <th>rental_date</th>\n",
       "      <th>customer_id</th>\n",
       "      <th>payment_id</th>\n",
       "      <th>amount</th>\n",
       "      <th>month</th>\n",
       "      <th>year</th>\n",
       "    </tr>\n",
       "  </thead>\n",
       "  <tbody>\n",
       "    <tr>\n",
       "      <th>0</th>\n",
       "      <td>1</td>\n",
       "      <td>4863</td>\n",
       "      <td>2005-07-08 19:03:15</td>\n",
       "      <td>431</td>\n",
       "      <td>11630</td>\n",
       "      <td>0.99</td>\n",
       "      <td>7</td>\n",
       "      <td>2005</td>\n",
       "    </tr>\n",
       "    <tr>\n",
       "      <th>1</th>\n",
       "      <td>1</td>\n",
       "      <td>11433</td>\n",
       "      <td>2005-08-02 20:13:10</td>\n",
       "      <td>518</td>\n",
       "      <td>13956</td>\n",
       "      <td>3.99</td>\n",
       "      <td>8</td>\n",
       "      <td>2005</td>\n",
       "    </tr>\n",
       "    <tr>\n",
       "      <th>2</th>\n",
       "      <td>1</td>\n",
       "      <td>14714</td>\n",
       "      <td>2005-08-21 21:27:43</td>\n",
       "      <td>279</td>\n",
       "      <td>7578</td>\n",
       "      <td>3.99</td>\n",
       "      <td>8</td>\n",
       "      <td>2005</td>\n",
       "    </tr>\n",
       "    <tr>\n",
       "      <th>3</th>\n",
       "      <td>1</td>\n",
       "      <td>972</td>\n",
       "      <td>2005-05-30 20:21:07</td>\n",
       "      <td>411</td>\n",
       "      <td>11124</td>\n",
       "      <td>1.99</td>\n",
       "      <td>5</td>\n",
       "      <td>2005</td>\n",
       "    </tr>\n",
       "    <tr>\n",
       "      <th>4</th>\n",
       "      <td>1</td>\n",
       "      <td>2117</td>\n",
       "      <td>2005-06-17 20:24:00</td>\n",
       "      <td>170</td>\n",
       "      <td>4607</td>\n",
       "      <td>0.99</td>\n",
       "      <td>6</td>\n",
       "      <td>2005</td>\n",
       "    </tr>\n",
       "  </tbody>\n",
       "</table>\n",
       "</div>"
      ],
      "text/plain": [
       "   film_id  rental_id         rental_date  customer_id  payment_id  amount  \\\n",
       "0        1       4863 2005-07-08 19:03:15          431       11630    0.99   \n",
       "1        1      11433 2005-08-02 20:13:10          518       13956    3.99   \n",
       "2        1      14714 2005-08-21 21:27:43          279        7578    3.99   \n",
       "3        1        972 2005-05-30 20:21:07          411       11124    1.99   \n",
       "4        1       2117 2005-06-17 20:24:00          170        4607    0.99   \n",
       "\n",
       "   month  year  \n",
       "0      7  2005  \n",
       "1      8  2005  \n",
       "2      8  2005  \n",
       "3      5  2005  \n",
       "4      6  2005  "
      ]
     },
     "execution_count": 23,
     "metadata": {},
     "output_type": "execute_result"
    }
   ],
   "source": [
    "sakila['month'] = pd.DatetimeIndex(sakila['rental_date']).month\n",
    "sakila.head()\n",
    "sakila['year'] = pd.DatetimeIndex(sakila['rental_date']).year\n",
    "sakila.head()"
   ]
  },
  {
   "cell_type": "code",
   "execution_count": 28,
   "id": "042ac4b2",
   "metadata": {},
   "outputs": [
    {
     "data": {
      "text/html": [
       "<div>\n",
       "<style scoped>\n",
       "    .dataframe tbody tr th:only-of-type {\n",
       "        vertical-align: middle;\n",
       "    }\n",
       "\n",
       "    .dataframe tbody tr th {\n",
       "        vertical-align: top;\n",
       "    }\n",
       "\n",
       "    .dataframe thead th {\n",
       "        text-align: right;\n",
       "    }\n",
       "</style>\n",
       "<table border=\"1\" class=\"dataframe\">\n",
       "  <thead>\n",
       "    <tr style=\"text-align: right;\">\n",
       "      <th></th>\n",
       "      <th>film_id</th>\n",
       "      <th>rental_id</th>\n",
       "      <th>rental_date</th>\n",
       "      <th>customer_id</th>\n",
       "      <th>payment_id</th>\n",
       "      <th>amount</th>\n",
       "      <th>month</th>\n",
       "      <th>year</th>\n",
       "    </tr>\n",
       "  </thead>\n",
       "  <tbody>\n",
       "    <tr>\n",
       "      <th>3</th>\n",
       "      <td>1</td>\n",
       "      <td>972</td>\n",
       "      <td>2005-05-30 20:21:07</td>\n",
       "      <td>411</td>\n",
       "      <td>11124</td>\n",
       "      <td>1.99</td>\n",
       "      <td>5</td>\n",
       "      <td>2005</td>\n",
       "    </tr>\n",
       "    <tr>\n",
       "      <th>12</th>\n",
       "      <td>1</td>\n",
       "      <td>361</td>\n",
       "      <td>2005-05-27 07:03:28</td>\n",
       "      <td>587</td>\n",
       "      <td>15710</td>\n",
       "      <td>0.99</td>\n",
       "      <td>5</td>\n",
       "      <td>2005</td>\n",
       "    </tr>\n",
       "    <tr>\n",
       "      <th>34</th>\n",
       "      <td>3</td>\n",
       "      <td>1033</td>\n",
       "      <td>2005-05-31 04:50:07</td>\n",
       "      <td>25</td>\n",
       "      <td>657</td>\n",
       "      <td>2.99</td>\n",
       "      <td>5</td>\n",
       "      <td>2005</td>\n",
       "    </tr>\n",
       "    <tr>\n",
       "      <th>45</th>\n",
       "      <td>4</td>\n",
       "      <td>995</td>\n",
       "      <td>2005-05-31 00:06:02</td>\n",
       "      <td>150</td>\n",
       "      <td>4086</td>\n",
       "      <td>3.99</td>\n",
       "      <td>5</td>\n",
       "      <td>2005</td>\n",
       "    </tr>\n",
       "    <tr>\n",
       "      <th>55</th>\n",
       "      <td>4</td>\n",
       "      <td>465</td>\n",
       "      <td>2005-05-27 20:44:36</td>\n",
       "      <td>261</td>\n",
       "      <td>7045</td>\n",
       "      <td>3.99</td>\n",
       "      <td>5</td>\n",
       "      <td>2005</td>\n",
       "    </tr>\n",
       "    <tr>\n",
       "      <th>...</th>\n",
       "      <td>...</td>\n",
       "      <td>...</td>\n",
       "      <td>...</td>\n",
       "      <td>...</td>\n",
       "      <td>...</td>\n",
       "      <td>...</td>\n",
       "      <td>...</td>\n",
       "      <td>...</td>\n",
       "    </tr>\n",
       "    <tr>\n",
       "      <th>15991</th>\n",
       "      <td>998</td>\n",
       "      <td>873</td>\n",
       "      <td>2005-05-30 05:15:20</td>\n",
       "      <td>375</td>\n",
       "      <td>10154</td>\n",
       "      <td>2.99</td>\n",
       "      <td>5</td>\n",
       "      <td>2005</td>\n",
       "    </tr>\n",
       "    <tr>\n",
       "      <th>16008</th>\n",
       "      <td>999</td>\n",
       "      <td>871</td>\n",
       "      <td>2005-05-30 05:01:30</td>\n",
       "      <td>303</td>\n",
       "      <td>8218</td>\n",
       "      <td>2.99</td>\n",
       "      <td>5</td>\n",
       "      <td>2005</td>\n",
       "    </tr>\n",
       "    <tr>\n",
       "      <th>16024</th>\n",
       "      <td>1000</td>\n",
       "      <td>1084</td>\n",
       "      <td>2005-05-31 11:10:17</td>\n",
       "      <td>12</td>\n",
       "      <td>304</td>\n",
       "      <td>4.99</td>\n",
       "      <td>5</td>\n",
       "      <td>2005</td>\n",
       "    </tr>\n",
       "    <tr>\n",
       "      <th>16032</th>\n",
       "      <td>1000</td>\n",
       "      <td>582</td>\n",
       "      <td>2005-05-28 11:33:46</td>\n",
       "      <td>198</td>\n",
       "      <td>5357</td>\n",
       "      <td>4.99</td>\n",
       "      <td>5</td>\n",
       "      <td>2005</td>\n",
       "    </tr>\n",
       "    <tr>\n",
       "      <th>16039</th>\n",
       "      <td>1000</td>\n",
       "      <td>711</td>\n",
       "      <td>2005-05-29 03:49:03</td>\n",
       "      <td>215</td>\n",
       "      <td>5832</td>\n",
       "      <td>4.99</td>\n",
       "      <td>5</td>\n",
       "      <td>2005</td>\n",
       "    </tr>\n",
       "  </tbody>\n",
       "</table>\n",
       "<p>1156 rows × 8 columns</p>\n",
       "</div>"
      ],
      "text/plain": [
       "       film_id  rental_id         rental_date  customer_id  payment_id  \\\n",
       "3            1        972 2005-05-30 20:21:07          411       11124   \n",
       "12           1        361 2005-05-27 07:03:28          587       15710   \n",
       "34           3       1033 2005-05-31 04:50:07           25         657   \n",
       "45           4        995 2005-05-31 00:06:02          150        4086   \n",
       "55           4        465 2005-05-27 20:44:36          261        7045   \n",
       "...        ...        ...                 ...          ...         ...   \n",
       "15991      998        873 2005-05-30 05:15:20          375       10154   \n",
       "16008      999        871 2005-05-30 05:01:30          303        8218   \n",
       "16024     1000       1084 2005-05-31 11:10:17           12         304   \n",
       "16032     1000        582 2005-05-28 11:33:46          198        5357   \n",
       "16039     1000        711 2005-05-29 03:49:03          215        5832   \n",
       "\n",
       "       amount  month  year  \n",
       "3        1.99      5  2005  \n",
       "12       0.99      5  2005  \n",
       "34       2.99      5  2005  \n",
       "45       3.99      5  2005  \n",
       "55       3.99      5  2005  \n",
       "...       ...    ...   ...  \n",
       "15991    2.99      5  2005  \n",
       "16008    2.99      5  2005  \n",
       "16024    4.99      5  2005  \n",
       "16032    4.99      5  2005  \n",
       "16039    4.99      5  2005  \n",
       "\n",
       "[1156 rows x 8 columns]"
      ]
     },
     "execution_count": 28,
     "metadata": {},
     "output_type": "execute_result"
    }
   ],
   "source": [
    "sakila[sakila.month.isin([5])&(sakila.year.isin([2005]))]"
   ]
  },
  {
   "cell_type": "code",
   "execution_count": 29,
   "id": "20a09842",
   "metadata": {},
   "outputs": [
    {
     "data": {
      "text/plain": [
       "film_id        0\n",
       "rental_id      0\n",
       "rental_date    0\n",
       "customer_id    0\n",
       "payment_id     0\n",
       "amount         0\n",
       "month          0\n",
       "year           0\n",
       "dtype: int64"
      ]
     },
     "execution_count": 29,
     "metadata": {},
     "output_type": "execute_result"
    }
   ],
   "source": [
    "sakila.isna().sum()"
   ]
  },
  {
   "cell_type": "code",
   "execution_count": null,
   "id": "506ff17b",
   "metadata": {},
   "outputs": [],
   "source": []
  },
  {
   "cell_type": "code",
   "execution_count": 30,
   "id": "574d8441",
   "metadata": {},
   "outputs": [
    {
     "data": {
      "text/plain": [
       "film_id                 int64\n",
       "rental_id               int64\n",
       "rental_date    datetime64[ns]\n",
       "customer_id             int64\n",
       "payment_id              int64\n",
       "amount                float64\n",
       "month                   int64\n",
       "year                    int64\n",
       "dtype: object"
      ]
     },
     "execution_count": 30,
     "metadata": {},
     "output_type": "execute_result"
    }
   ],
   "source": [
    "sakila.dtypes"
   ]
  },
  {
   "cell_type": "code",
   "execution_count": 31,
   "id": "5daada35",
   "metadata": {},
   "outputs": [
    {
     "data": {
      "image/png": "[encoded data removed]",
      "text/plain": [
       "<Figure size 640x480 with 2 Axes>"
      ]
     },
     "metadata": {},
     "output_type": "display_data"
    }
   ],
   "source": [
    "import seaborn as sns\n",
    "%matplotlib inline\n",
    "import matplotlib.pyplot as plt\n",
    "\n",
    "correlations_matrix = sakila.corr()\n",
    "sns.heatmap(correlations_matrix, annot=True)\n",
    "plt.show()"
   ]
  },
  {
   "cell_type": "code",
   "execution_count": 40,
   "id": "820ee16f",
   "metadata": {},
   "outputs": [],
   "source": [
    "sakila2=sakila.drop(['rental_date', 'year','film_id'], axis=1)"
   ]
  },
  {
   "cell_type": "code",
   "execution_count": 41,
   "id": "3ed71759",
   "metadata": {},
   "outputs": [
    {
     "data": {
      "text/html": [
       "<div>\n",
       "<style scoped>\n",
       "    .dataframe tbody tr th:only-of-type {\n",
       "        vertical-align: middle;\n",
       "    }\n",
       "\n",
       "    .dataframe tbody tr th {\n",
       "        vertical-align: top;\n",
       "    }\n",
       "\n",
       "    .dataframe thead th {\n",
       "        text-align: right;\n",
       "    }\n",
       "</style>\n",
       "<table border=\"1\" class=\"dataframe\">\n",
       "  <thead>\n",
       "    <tr style=\"text-align: right;\">\n",
       "      <th></th>\n",
       "      <th>rental_id</th>\n",
       "      <th>customer_id</th>\n",
       "      <th>payment_id</th>\n",
       "      <th>amount</th>\n",
       "      <th>month</th>\n",
       "    </tr>\n",
       "  </thead>\n",
       "  <tbody>\n",
       "    <tr>\n",
       "      <th>0</th>\n",
       "      <td>0.302966</td>\n",
       "      <td>0.719064</td>\n",
       "      <td>0.724639</td>\n",
       "      <td>0.082569</td>\n",
       "      <td>0.833333</td>\n",
       "    </tr>\n",
       "    <tr>\n",
       "      <th>1</th>\n",
       "      <td>0.712363</td>\n",
       "      <td>0.864548</td>\n",
       "      <td>0.869579</td>\n",
       "      <td>0.332777</td>\n",
       "      <td>1.000000</td>\n",
       "    </tr>\n",
       "    <tr>\n",
       "      <th>2</th>\n",
       "      <td>0.916812</td>\n",
       "      <td>0.464883</td>\n",
       "      <td>0.472146</td>\n",
       "      <td>0.332777</td>\n",
       "      <td>1.000000</td>\n",
       "    </tr>\n",
       "    <tr>\n",
       "      <th>3</th>\n",
       "      <td>0.060506</td>\n",
       "      <td>0.685619</td>\n",
       "      <td>0.693108</td>\n",
       "      <td>0.165972</td>\n",
       "      <td>0.500000</td>\n",
       "    </tr>\n",
       "    <tr>\n",
       "      <th>4</th>\n",
       "      <td>0.131854</td>\n",
       "      <td>0.282609</td>\n",
       "      <td>0.287014</td>\n",
       "      <td>0.082569</td>\n",
       "      <td>0.666667</td>\n",
       "    </tr>\n",
       "  </tbody>\n",
       "</table>\n",
       "</div>"
      ],
      "text/plain": [
       "   rental_id  customer_id  payment_id    amount     month\n",
       "0   0.302966     0.719064    0.724639  0.082569  0.833333\n",
       "1   0.712363     0.864548    0.869579  0.332777  1.000000\n",
       "2   0.916812     0.464883    0.472146  0.332777  1.000000\n",
       "3   0.060506     0.685619    0.693108  0.165972  0.500000\n",
       "4   0.131854     0.282609    0.287014  0.082569  0.666667"
      ]
     },
     "execution_count": 41,
     "metadata": {},
     "output_type": "execute_result"
    }
   ],
   "source": [
    "import numpy as np\n",
    "from sklearn.preprocessing import MinMaxScaler\n",
    "# from sklearn.preprocessing import StandardScaler\n",
    "\n",
    "X_num = sakila2.select_dtypes(include = np.number)\n",
    "X_cat = sakila2.select_dtypes(include = object)\n",
    "\n",
    "# Scaling data\n",
    "transformer = MinMaxScaler().fit(X_num)\n",
    "x_normalized = transformer.transform(X_num)\n",
    "x_norm = pd.DataFrame(x_normalized, columns=X_num.columns)\n",
    "x_norm.head()\n"
   ]
  },
  {
   "cell_type": "code",
   "execution_count": 43,
   "id": "a4e01d5b",
   "metadata": {},
   "outputs": [],
   "source": [
    "y = sakila2['month']\n",
    "X = sakila2.drop('month', axis=1)\n",
    "from sklearn.model_selection import train_test_split\n",
    "X_train, X_test, y_train, y_test = train_test_split(X, y, test_size=0.2, random_state=1337)"
   ]
  },
  {
   "cell_type": "code",
   "execution_count": 45,
   "id": "7febad13",
   "metadata": {},
   "outputs": [
    {
     "data": {
      "text/html": [
       "<div>\n",
       "<style scoped>\n",
       "    .dataframe tbody tr th:only-of-type {\n",
       "        vertical-align: middle;\n",
       "    }\n",
       "\n",
       "    .dataframe tbody tr th {\n",
       "        vertical-align: top;\n",
       "    }\n",
       "\n",
       "    .dataframe thead th {\n",
       "        text-align: right;\n",
       "    }\n",
       "</style>\n",
       "<table border=\"1\" class=\"dataframe\">\n",
       "  <thead>\n",
       "    <tr style=\"text-align: right;\">\n",
       "      <th></th>\n",
       "      <th>rental_id</th>\n",
       "      <th>customer_id</th>\n",
       "      <th>payment_id</th>\n",
       "      <th>amount</th>\n",
       "    </tr>\n",
       "  </thead>\n",
       "  <tbody>\n",
       "    <tr>\n",
       "      <th>0</th>\n",
       "      <td>0.408774</td>\n",
       "      <td>0.881271</td>\n",
       "      <td>0.885842</td>\n",
       "      <td>0.082569</td>\n",
       "    </tr>\n",
       "    <tr>\n",
       "      <th>1</th>\n",
       "      <td>0.386092</td>\n",
       "      <td>0.994983</td>\n",
       "      <td>0.994890</td>\n",
       "      <td>0.416180</td>\n",
       "    </tr>\n",
       "    <tr>\n",
       "      <th>2</th>\n",
       "      <td>0.475698</td>\n",
       "      <td>0.688963</td>\n",
       "      <td>0.696473</td>\n",
       "      <td>0.082569</td>\n",
       "    </tr>\n",
       "    <tr>\n",
       "      <th>3</th>\n",
       "      <td>0.941800</td>\n",
       "      <td>0.053512</td>\n",
       "      <td>0.057640</td>\n",
       "      <td>0.249374</td>\n",
       "    </tr>\n",
       "    <tr>\n",
       "      <th>4</th>\n",
       "      <td>0.096959</td>\n",
       "      <td>0.732441</td>\n",
       "      <td>0.737288</td>\n",
       "      <td>0.082569</td>\n",
       "    </tr>\n",
       "    <tr>\n",
       "      <th>...</th>\n",
       "      <td>...</td>\n",
       "      <td>...</td>\n",
       "      <td>...</td>\n",
       "      <td>...</td>\n",
       "    </tr>\n",
       "    <tr>\n",
       "      <th>12830</th>\n",
       "      <td>0.623380</td>\n",
       "      <td>0.757525</td>\n",
       "      <td>0.764457</td>\n",
       "      <td>0.332777</td>\n",
       "    </tr>\n",
       "    <tr>\n",
       "      <th>12831</th>\n",
       "      <td>0.946037</td>\n",
       "      <td>0.446488</td>\n",
       "      <td>0.453141</td>\n",
       "      <td>0.249374</td>\n",
       "    </tr>\n",
       "    <tr>\n",
       "      <th>12832</th>\n",
       "      <td>0.838671</td>\n",
       "      <td>0.683946</td>\n",
       "      <td>0.692360</td>\n",
       "      <td>0.416180</td>\n",
       "    </tr>\n",
       "    <tr>\n",
       "      <th>12833</th>\n",
       "      <td>0.776919</td>\n",
       "      <td>0.394649</td>\n",
       "      <td>0.399427</td>\n",
       "      <td>0.082569</td>\n",
       "    </tr>\n",
       "    <tr>\n",
       "      <th>12834</th>\n",
       "      <td>0.901358</td>\n",
       "      <td>0.737458</td>\n",
       "      <td>0.744267</td>\n",
       "      <td>0.082569</td>\n",
       "    </tr>\n",
       "  </tbody>\n",
       "</table>\n",
       "<p>12835 rows × 4 columns</p>\n",
       "</div>"
      ],
      "text/plain": [
       "       rental_id  customer_id  payment_id    amount\n",
       "0       0.408774     0.881271    0.885842  0.082569\n",
       "1       0.386092     0.994983    0.994890  0.416180\n",
       "2       0.475698     0.688963    0.696473  0.082569\n",
       "3       0.941800     0.053512    0.057640  0.249374\n",
       "4       0.096959     0.732441    0.737288  0.082569\n",
       "...          ...          ...         ...       ...\n",
       "12830   0.623380     0.757525    0.764457  0.332777\n",
       "12831   0.946037     0.446488    0.453141  0.249374\n",
       "12832   0.838671     0.683946    0.692360  0.416180\n",
       "12833   0.776919     0.394649    0.399427  0.082569\n",
       "12834   0.901358     0.737458    0.744267  0.082569\n",
       "\n",
       "[12835 rows x 4 columns]"
      ]
     },
     "execution_count": 45,
     "metadata": {},
     "output_type": "execute_result"
    }
   ],
   "source": [
    "import numpy as np\n",
    "from sklearn.preprocessing import MinMaxScaler\n",
    "# from sklearn.preprocessing import StandardScaler\n",
    "\n",
    "X_train_num = X_train.select_dtypes(include = np.number)\n",
    "\n",
    "# Scaling data\n",
    "transformer = MinMaxScaler().fit(X_train_num) # need to keep transformer\n",
    "X_train_normalized = transformer.transform(X_train_num)\n",
    "X_train_norm = pd.DataFrame(X_train_normalized, columns=X_train_num.columns)\n",
    "X_train_norm"
   ]
  },
  {
   "cell_type": "code",
   "execution_count": 46,
   "id": "f02e478e",
   "metadata": {},
   "outputs": [
    {
     "data": {
      "text/html": [
       "<div>\n",
       "<style scoped>\n",
       "    .dataframe tbody tr th:only-of-type {\n",
       "        vertical-align: middle;\n",
       "    }\n",
       "\n",
       "    .dataframe tbody tr th {\n",
       "        vertical-align: top;\n",
       "    }\n",
       "\n",
       "    .dataframe thead th {\n",
       "        text-align: right;\n",
       "    }\n",
       "</style>\n",
       "<table border=\"1\" class=\"dataframe\">\n",
       "  <thead>\n",
       "    <tr style=\"text-align: right;\">\n",
       "      <th></th>\n",
       "      <th>rental_id</th>\n",
       "      <th>customer_id</th>\n",
       "      <th>payment_id</th>\n",
       "      <th>amount</th>\n",
       "    </tr>\n",
       "  </thead>\n",
       "  <tbody>\n",
       "    <tr>\n",
       "      <th>0</th>\n",
       "      <td>0.408774</td>\n",
       "      <td>0.881271</td>\n",
       "      <td>0.885842</td>\n",
       "      <td>0.082569</td>\n",
       "    </tr>\n",
       "    <tr>\n",
       "      <th>1</th>\n",
       "      <td>0.386092</td>\n",
       "      <td>0.994983</td>\n",
       "      <td>0.994890</td>\n",
       "      <td>0.416180</td>\n",
       "    </tr>\n",
       "    <tr>\n",
       "      <th>2</th>\n",
       "      <td>0.475698</td>\n",
       "      <td>0.688963</td>\n",
       "      <td>0.696473</td>\n",
       "      <td>0.082569</td>\n",
       "    </tr>\n",
       "    <tr>\n",
       "      <th>3</th>\n",
       "      <td>0.941800</td>\n",
       "      <td>0.053512</td>\n",
       "      <td>0.057640</td>\n",
       "      <td>0.249374</td>\n",
       "    </tr>\n",
       "    <tr>\n",
       "      <th>4</th>\n",
       "      <td>0.096959</td>\n",
       "      <td>0.732441</td>\n",
       "      <td>0.737288</td>\n",
       "      <td>0.082569</td>\n",
       "    </tr>\n",
       "  </tbody>\n",
       "</table>\n",
       "</div>"
      ],
      "text/plain": [
       "   rental_id  customer_id  payment_id    amount\n",
       "0   0.408774     0.881271    0.885842  0.082569\n",
       "1   0.386092     0.994983    0.994890  0.416180\n",
       "2   0.475698     0.688963    0.696473  0.082569\n",
       "3   0.941800     0.053512    0.057640  0.249374\n",
       "4   0.096959     0.732441    0.737288  0.082569"
      ]
     },
     "execution_count": 46,
     "metadata": {},
     "output_type": "execute_result"
    }
   ],
   "source": [
    "X_train_norm.columns = X_train_num.columns\n",
    "X_train_norm.head()"
   ]
  },
  {
   "cell_type": "code",
   "execution_count": 50,
   "id": "bb902d80",
   "metadata": {},
   "outputs": [
    {
     "data": {
      "image/png": "[encoded data removed]",
      "text/plain": [
       "<Figure size 500x500 with 1 Axes>"
      ]
     },
     "metadata": {},
     "output_type": "display_data"
    },
    {
     "data": {
      "image/png": "[encoded data removed]",
      "text/plain": [
       "<Figure size 500x500 with 1 Axes>"
      ]
     },
     "metadata": {},
     "output_type": "display_data"
    },
    {
     "data": {
      "image/png": "[encoded data removed]",
      "text/plain": [
       "<Figure size 500x500 with 1 Axes>"
      ]
     },
     "metadata": {},
     "output_type": "display_data"
    },
    {
     "data": {
      "image/png": "[encoded data removed]",
      "text/plain": [
       "<Figure size 500x500 with 1 Axes>"
      ]
     },
     "metadata": {},
     "output_type": "display_data"
    }
   ],
   "source": [
    "sns.displot(X_train_norm['rental_id'])\n",
    "plt.show()\n",
    "\n",
    "sns.displot(X_train_norm['customer_id'])\n",
    "plt.show()\n",
    "\n",
    "sns.displot(X_train_norm['payment_id'])\n",
    "plt.show()\n",
    "\n",
    "sns.displot(X_train_norm['amount'])\n",
    "plt.show()"
   ]
  },
  {
   "cell_type": "code",
   "execution_count": 55,
   "id": "415f8137",
   "metadata": {},
   "outputs": [
    {
     "name": "stderr",
     "output_type": "stream",
     "text": [
      "C:\\Users\\joanv\\anaconda3\\lib\\site-packages\\sklearn\\linear_model\\_logistic.py:814: ConvergenceWarning: lbfgs failed to converge (status=1):\n",
      "STOP: TOTAL NO. of ITERATIONS REACHED LIMIT.\n",
      "\n",
      "Increase the number of iterations (max_iter) or scale the data as shown in:\n",
      "    https://scikit-learn.org/stable/modules/preprocessing.html\n",
      "Please also refer to the documentation for alternative solver options:\n",
      "    https://scikit-learn.org/stable/modules/linear_model.html#logistic-regression\n",
      "  n_iter_i = _check_optimize_result(\n"
     ]
    }
   ],
   "source": [
    "from sklearn.linear_model import LogisticRegression\n",
    "classification = LogisticRegression(random_state=0, solver='lbfgs',\n",
    "                  multi_class='multinomial').fit(X_train_normalized, y_train)"
   ]
  },
  {
   "cell_type": "code",
   "execution_count": 57,
   "id": "3d137bbf",
   "metadata": {},
   "outputs": [],
   "source": [
    "classification = LogisticRegression(random_state=0, solver='saga',\n",
    "                  multi_class='multinomial').fit(X_train_normalized, y_train)"
   ]
  },
  {
   "cell_type": "code",
   "execution_count": 58,
   "id": "277deac2",
   "metadata": {},
   "outputs": [],
   "source": [
    "X_test_num = X_test.select_dtypes(include = np.number)"
   ]
  },
  {
   "cell_type": "code",
   "execution_count": 59,
   "id": "605a9be5",
   "metadata": {},
   "outputs": [
    {
     "data": {
      "text/html": [
       "<div>\n",
       "<style scoped>\n",
       "    .dataframe tbody tr th:only-of-type {\n",
       "        vertical-align: middle;\n",
       "    }\n",
       "\n",
       "    .dataframe tbody tr th {\n",
       "        vertical-align: top;\n",
       "    }\n",
       "\n",
       "    .dataframe thead th {\n",
       "        text-align: right;\n",
       "    }\n",
       "</style>\n",
       "<table border=\"1\" class=\"dataframe\">\n",
       "  <thead>\n",
       "    <tr style=\"text-align: right;\">\n",
       "      <th></th>\n",
       "      <th>0</th>\n",
       "      <th>1</th>\n",
       "      <th>2</th>\n",
       "      <th>3</th>\n",
       "    </tr>\n",
       "  </thead>\n",
       "  <tbody>\n",
       "    <tr>\n",
       "      <th>0</th>\n",
       "      <td>0.399115</td>\n",
       "      <td>0.653846</td>\n",
       "      <td>0.661952</td>\n",
       "      <td>0.249374</td>\n",
       "    </tr>\n",
       "    <tr>\n",
       "      <th>1</th>\n",
       "      <td>0.312562</td>\n",
       "      <td>0.401338</td>\n",
       "      <td>0.405533</td>\n",
       "      <td>0.249374</td>\n",
       "    </tr>\n",
       "    <tr>\n",
       "      <th>2</th>\n",
       "      <td>0.991463</td>\n",
       "      <td>0.381271</td>\n",
       "      <td>0.385282</td>\n",
       "      <td>0.249374</td>\n",
       "    </tr>\n",
       "    <tr>\n",
       "      <th>3</th>\n",
       "      <td>0.366588</td>\n",
       "      <td>0.831104</td>\n",
       "      <td>0.836117</td>\n",
       "      <td>0.082569</td>\n",
       "    </tr>\n",
       "    <tr>\n",
       "      <th>4</th>\n",
       "      <td>0.589606</td>\n",
       "      <td>0.586957</td>\n",
       "      <td>0.593407</td>\n",
       "      <td>0.082569</td>\n",
       "    </tr>\n",
       "  </tbody>\n",
       "</table>\n",
       "</div>"
      ],
      "text/plain": [
       "          0         1         2         3\n",
       "0  0.399115  0.653846  0.661952  0.249374\n",
       "1  0.312562  0.401338  0.405533  0.249374\n",
       "2  0.991463  0.381271  0.385282  0.249374\n",
       "3  0.366588  0.831104  0.836117  0.082569\n",
       "4  0.589606  0.586957  0.593407  0.082569"
      ]
     },
     "execution_count": 59,
     "metadata": {},
     "output_type": "execute_result"
    }
   ],
   "source": [
    "transformer = MinMaxScaler().fit(X_train_num)\n",
    "X_test_normalized = transformer.transform(X_test_num)\n",
    "X_test_norm = pd.DataFrame(X_test_normalized)\n",
    "X_test_norm.head()"
   ]
  },
  {
   "cell_type": "code",
   "execution_count": 60,
   "id": "fd8eae28",
   "metadata": {},
   "outputs": [
    {
     "data": {
      "text/plain": [
       "array([7, 7, 8, ..., 7, 7, 8], dtype=int64)"
      ]
     },
     "execution_count": 60,
     "metadata": {},
     "output_type": "execute_result"
    }
   ],
   "source": [
    "predictions = classification.predict(X_test_normalized)\n",
    "predictions"
   ]
  },
  {
   "cell_type": "code",
   "execution_count": 61,
   "id": "ae366c1c",
   "metadata": {},
   "outputs": [
    {
     "data": {
      "text/plain": [
       "0.9716422561545652"
      ]
     },
     "execution_count": 61,
     "metadata": {},
     "output_type": "execute_result"
    }
   ],
   "source": [
    "classification.score(X_test_normalized, y_test)"
   ]
  },
  {
   "cell_type": "code",
   "execution_count": 62,
   "id": "36e7cdc7",
   "metadata": {},
   "outputs": [
    {
     "name": "stdout",
     "output_type": "stream",
     "text": [
      "7    1354\n",
      "8    1116\n",
      "6     462\n",
      "5     243\n",
      "2      34\n",
      "Name: month, dtype: int64\n"
     ]
    }
   ],
   "source": [
    "print(y_test.value_counts())"
   ]
  },
  {
   "cell_type": "code",
   "execution_count": 63,
   "id": "9dc0d927",
   "metadata": {},
   "outputs": [
    {
     "data": {
      "text/plain": [
       "7    1380\n",
       "8    1142\n",
       "6     473\n",
       "5     214\n",
       "dtype: int64"
      ]
     },
     "execution_count": 63,
     "metadata": {},
     "output_type": "execute_result"
    }
   ],
   "source": [
    "pd.Series(predictions).value_counts()"
   ]
  },
  {
   "cell_type": "code",
   "execution_count": 64,
   "id": "d8b7eb35",
   "metadata": {},
   "outputs": [
    {
     "data": {
      "text/plain": [
       "array([[   0,    0,    0,    0,   34],\n",
       "       [   0,  214,   29,    0,    0],\n",
       "       [   0,    0,  444,   18,    0],\n",
       "       [   0,    0,    0, 1353,    1],\n",
       "       [   0,    0,    0,    9, 1107]], dtype=int64)"
      ]
     },
     "execution_count": 64,
     "metadata": {},
     "output_type": "execute_result"
    }
   ],
   "source": [
    "from sklearn.metrics import confusion_matrix\n",
    "confusion_matrix(y_test, predictions)"
   ]
  },
  {
   "cell_type": "code",
   "execution_count": 66,
   "id": "f64c98ac",
   "metadata": {},
   "outputs": [
    {
     "data": {
      "text/plain": [
       "KNeighborsClassifier(n_neighbors=3)"
      ]
     },
     "execution_count": 66,
     "metadata": {},
     "output_type": "execute_result"
    }
   ],
   "source": [
    "from sklearn import neighbors\n",
    "clf = neighbors.KNeighborsClassifier(n_neighbors=3, weights='uniform')\n",
    "clf.fit(X_train_normalized, y_train)\n"
   ]
  },
  {
   "cell_type": "code",
   "execution_count": 69,
   "id": "7ee133b4",
   "metadata": {},
   "outputs": [
    {
     "name": "stderr",
     "output_type": "stream",
     "text": [
      "C:\\Users\\joanv\\anaconda3\\lib\\site-packages\\sklearn\\neighbors\\_classification.py:228: FutureWarning: Unlike other reduction functions (e.g. `skew`, `kurtosis`), the default behavior of `mode` typically preserves the axis it acts along. In SciPy 1.11.0, this behavior will change: the default value of `keepdims` will become False, the `axis` over which the statistic is taken will be eliminated, and the value None will no longer be accepted. Set `keepdims` to True or False to avoid this warning.\n",
      "  mode, _ = stats.mode(_y[neigh_ind, k], axis=1)\n",
      "C:\\Users\\joanv\\anaconda3\\lib\\site-packages\\sklearn\\neighbors\\_classification.py:228: FutureWarning: Unlike other reduction functions (e.g. `skew`, `kurtosis`), the default behavior of `mode` typically preserves the axis it acts along. In SciPy 1.11.0, this behavior will change: the default value of `keepdims` will become False, the `axis` over which the statistic is taken will be eliminated, and the value None will no longer be accepted. Set `keepdims` to True or False to avoid this warning.\n",
      "  mode, _ = stats.mode(_y[neigh_ind, k], axis=1)\n"
     ]
    },
    {
     "data": {
      "text/plain": [
       "0.954814583982549"
      ]
     },
     "execution_count": 69,
     "metadata": {},
     "output_type": "execute_result"
    }
   ],
   "source": [
    "predictions_clf = clf.predict(X_test_normalized)\n",
    "clf.score(X_test_normalized, y_test)"
   ]
  },
  {
   "cell_type": "code",
   "execution_count": 70,
   "id": "a9654dcd",
   "metadata": {},
   "outputs": [
    {
     "data": {
      "text/plain": [
       "array([[   0,    0,    0,    0,   34],\n",
       "       [   0,  230,   13,    0,    0],\n",
       "       [   0,   20,  423,   19,    0],\n",
       "       [   0,    0,   20, 1312,   22],\n",
       "       [   3,    0,    0,   14, 1099]], dtype=int64)"
      ]
     },
     "execution_count": 70,
     "metadata": {},
     "output_type": "execute_result"
    }
   ],
   "source": [
    "confusion_matrix(y_test, predictions_clf)"
   ]
  },
  {
   "cell_type": "code",
   "execution_count": 71,
   "id": "90808e52",
   "metadata": {},
   "outputs": [
    {
     "data": {
      "text/plain": [
       "7    1354\n",
       "8    1116\n",
       "6     462\n",
       "5     243\n",
       "2      34\n",
       "Name: month, dtype: int64"
      ]
     },
     "execution_count": 71,
     "metadata": {},
     "output_type": "execute_result"
    }
   ],
   "source": [
    "pd.Series(y_test).value_counts()"
   ]
  },
  {
   "cell_type": "code",
   "execution_count": 72,
   "id": "27020d55",
   "metadata": {},
   "outputs": [
    {
     "data": {
      "text/plain": [
       "7    1345\n",
       "8    1155\n",
       "6     456\n",
       "5     250\n",
       "2       3\n",
       "dtype: int64"
      ]
     },
     "execution_count": 72,
     "metadata": {},
     "output_type": "execute_result"
    }
   ],
   "source": [
    "pd.Series(predictions_clf).value_counts()"
   ]
  },
  {
   "cell_type": "code",
   "execution_count": null,
   "id": "10d1a0e3",
   "metadata": {},
   "outputs": [],
   "source": []
  }
 ],
 "metadata": {
  "kernelspec": {
   "display_name": "Python 3 (ipykernel)",
   "language": "python",
   "name": "python3"
  },
  "language_info": {
   "codemirror_mode": {
    "name": "ipython",
    "version": 3
   },
   "file_extension": ".py",
   "mimetype": "text/x-python",
   "name": "python",
   "nbconvert_exporter": "python",
   "pygments_lexer": "ipython3",
   "version": "3.9.13"
  }
 },
 "nbformat": 4,
 "nbformat_minor": 5
}
